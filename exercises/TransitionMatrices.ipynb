{
 "cells": [
  {
   "cell_type": "code",
   "execution_count": 1,
   "metadata": {},
   "outputs": [],
   "source": [
    "import numpy as np\n",
    "\n",
    "T = np.array([[0.9, 0.1],[0.5,0.5]])"
   ]
  },
  {
   "cell_type": "code",
   "execution_count": 2,
   "metadata": {},
   "outputs": [
    {
     "data": {
      "text/plain": [
       "array([[0.9, 0.1],\n",
       "       [0.5, 0.5]])"
      ]
     },
     "execution_count": 2,
     "metadata": {},
     "output_type": "execute_result"
    }
   ],
   "source": [
    "T"
   ]
  },
  {
   "cell_type": "code",
   "execution_count": 10,
   "metadata": {},
   "outputs": [
    {
     "name": "stdout",
     "output_type": "stream",
     "text": [
      "[0.86 0.14]\n",
      "[0.844 0.156]\n",
      "[0.8376 0.1624]\n",
      "[0.83504 0.16496]\n",
      "[0.834016 0.165984]\n",
      "[0.8336064 0.1663936]\n",
      "[0.83344256 0.16655744]\n",
      "[0.83337702 0.16662298]\n",
      "[0.83335081 0.16664919]\n",
      "[0.83334032 0.16665968]\n",
      "[0.83333613 0.16666387]\n",
      "[0.83333445 0.16666555]\n",
      "[0.83333378 0.16666622]\n",
      "[0.83333351 0.16666649]\n",
      "[0.8333334 0.1666666]\n",
      "[0.83333336 0.16666664]\n",
      "[0.83333334 0.16666666]\n",
      "[0.83333334 0.16666666]\n",
      "[0.83333334 0.16666666]\n",
      "[0.83333333 0.16666667]\n"
     ]
    }
   ],
   "source": [
    "po = [1, 0]\n",
    "Tn = T\n",
    "for n in range(20):\n",
    "  Tn = np.matmul(Tn,T)\n",
    "  print(np.matmul(po,Tn))"
   ]
  },
  {
   "cell_type": "code",
   "execution_count": null,
   "metadata": {},
   "outputs": [],
   "source": []
  }
 ],
 "metadata": {
  "kernelspec": {
   "display_name": "Python 3",
   "language": "python",
   "name": "python3"
  },
  "language_info": {
   "codemirror_mode": {
    "name": "ipython",
    "version": 3
   },
   "file_extension": ".py",
   "mimetype": "text/x-python",
   "name": "python",
   "nbconvert_exporter": "python",
   "pygments_lexer": "ipython3",
   "version": "3.8.3"
  }
 },
 "nbformat": 4,
 "nbformat_minor": 4
}
