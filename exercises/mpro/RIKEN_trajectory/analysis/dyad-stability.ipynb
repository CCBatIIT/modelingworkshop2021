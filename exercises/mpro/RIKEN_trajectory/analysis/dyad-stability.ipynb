{
 "cells": [
  {
   "cell_type": "code",
   "execution_count": null,
   "metadata": {},
   "outputs": [],
   "source": [
    "%matplotlib inline\n",
    "import matplotlib.pyplot as plt"
   ]
  },
  {
   "cell_type": "code",
   "execution_count": null,
   "metadata": {},
   "outputs": [],
   "source": [
    "import MDAnalysis.analysis.base\n",
    "from MDAnalysis.analysis import distances\n",
    "import numpy as np\n",
    "\n",
    "class DistanceAnalysis(MDAnalysis.analysis.base.AnalysisBase):\n",
    "  def __init__(self, ag1, ag2, **kwargs):\n",
    "    super(DistanceAnalysis, self).__init__(ag1.universe.trajectory, **kwargs)\n",
    "    self._ag1 = ag1\n",
    "    self._ag2 = ag2\n",
    "    \n",
    "  def _prepare(self):\n",
    "    self.result = []\n",
    "    \n",
    "  def _single_frame(self):\n",
    "    self.result.append(distances.dist(self._ag1, self._ag2)[-1])\n",
    "\n",
    "  def _conclude(self):\n",
    "    self.result = np.array(self.result)"
   ]
  },
  {
   "cell_type": "code",
   "execution_count": null,
   "metadata": {},
   "outputs": [],
   "source": [
    "# Loads the aligned trajectory\n",
    "import MDAnalysis as mda\n",
    "ref = mda.Universe('../sarscov2-10921231-structure/protein_conf.gro')\n",
    "sim = mda.Universe('../sarscov2-10921231-structure/protein_conf.gro', \\\n",
    "                   '../traj_protein_snap_every1ns/protein_snap_every1ns_00to02us.xtc', \\\n",
    "                   '../traj_protein_snap_every1ns/protein_snap_every1ns_02to04us.xtc', \\\n",
    "                   '../traj_protein_snap_every1ns/protein_snap_every1ns_04to06us.xtc', \\\n",
    "                   '../traj_protein_snap_every1ns/protein_snap_every1ns_06to08us.xtc', \\\n",
    "                   '../traj_protein_snap_every1ns/protein_snap_every1ns_08to10us.xtc')"
   ]
  },
  {
   "cell_type": "code",
   "execution_count": null,
   "metadata": {},
   "outputs": [],
   "source": [
    "# Select sulfur on Cys 145 and nitrogen on ring of His 41\n",
    "SG = sim.select_atoms(\"resnum 145 and name SG\")\n",
    "SG = SG[0] + SG[0] + SG[1] + SG[1]\n",
    "N = sim.select_atoms(\"resnum 41 and (name ND1 or name NE2)\")\n",
    "\n",
    "# Calculate distances throughout the trajectory\n",
    "R = DistanceAnalysis(SG, N)\n",
    "R.run()\n",
    "\n",
    "# Calculate minimum distance between SG and N\n",
    "d_monomerA = np.min(R.result[:,0:1],1)\n",
    "d_monomerB = np.min(R.result[:,2:3],1)"
   ]
  },
  {
   "cell_type": "code",
   "execution_count": null,
   "metadata": {},
   "outputs": [],
   "source": [
    "# The distance as a function of time\n",
    "plt.plot(d_monomerA,'.-')\n",
    "plt.plot(d_monomerB,'.-')"
   ]
  },
  {
   "cell_type": "markdown",
   "metadata": {},
   "source": [
    "# Probability densities of dyad distance"
   ]
  },
  {
   "cell_type": "code",
   "execution_count": null,
   "metadata": {},
   "outputs": [],
   "source": [
    "[pdf, xlim] = np.histogram(d_monomerA, bins=50, range=(2.5,10), density=True)\n",
    "\n",
    "plt.figure(0)\n",
    "plt.plot(xlim[:-1], pdf)\n",
    "plt.title('Histogram')\n",
    "\n",
    "RT = 8.314E-3/4.184*300\n",
    "plt.figure(1)\n",
    "plt.plot(xlim[:-1], -RT*np.log(pdf))\n",
    "plt.title('Potential of mean force')\n",
    "\n",
    "[pdf, xlim] = np.histogram(d_monomerB, bins=50, range=(2.5,10), density=True)\n",
    "\n",
    "plt.figure(0)\n",
    "plt.plot(xlim[:-1], pdf)\n",
    "plt.title('Histogram')\n",
    "\n",
    "plt.figure(1)\n",
    "plt.plot(xlim[:-1], -RT*np.log(pdf))\n",
    "plt.title('Potential of mean force')"
   ]
  },
  {
   "cell_type": "code",
   "execution_count": null,
   "metadata": {},
   "outputs": [],
   "source": [
    "(pdf, xedges, yedges) = np.histogram2d(d_monomerA, d_monomerB, bins=30, range=((2.5,10),(2.5,10)))\n",
    "X, Y = np.meshgrid(xedges, yedges)\n",
    "\n",
    "plt.figure(0)\n",
    "plt.pcolormesh(X,Y,pdf)\n",
    "plt.colorbar()\n",
    "\n",
    "plt.figure(1)\n",
    "F = -RT*np.log(pdf)\n",
    "F[F==np.inf] = 0\n",
    "plt.pcolormesh(X,Y,F)\n",
    "plt.colorbar()"
   ]
  },
  {
   "cell_type": "markdown",
   "metadata": {},
   "source": [
    "# Joint probabilities of short dyad distances"
   ]
  },
  {
   "cell_type": "code",
   "execution_count": null,
   "metadata": {},
   "outputs": [],
   "source": [
    "d_cutoff = 4.25\n",
    "pA = np.sum(d_monomerA<d_cutoff)/len(d_monomerA)\n",
    "pAB = np.sum(np.logical_and(d_monomerA<d_cutoff, d_monomerB<d_cutoff))/len(d_monomerB)\n",
    "print('The fraction of frames with a short dyad distance')\n",
    "print('in monomer A is', pA)\n",
    "print('in monomer A is ...')\n",
    "print('in both monomers is', pAB)\n",
    "print('If the monomers were indepedent, the probabilities would be ...')"
   ]
  },
  {
   "cell_type": "code",
   "execution_count": null,
   "metadata": {},
   "outputs": [],
   "source": []
  }
 ],
 "metadata": {
  "kernelspec": {
   "display_name": "Python 3",
   "language": "python",
   "name": "python3"
  },
  "language_info": {
   "codemirror_mode": {
    "name": "ipython",
    "version": 3
   },
   "file_extension": ".py",
   "mimetype": "text/x-python",
   "name": "python",
   "nbconvert_exporter": "python",
   "pygments_lexer": "ipython3",
   "version": "3.9.1"
  }
 },
 "nbformat": 4,
 "nbformat_minor": 4
}
