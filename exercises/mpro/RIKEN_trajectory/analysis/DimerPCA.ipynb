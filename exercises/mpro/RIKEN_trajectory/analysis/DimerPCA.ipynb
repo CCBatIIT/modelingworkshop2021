{
 "cells": [
  {
   "cell_type": "code",
   "execution_count": null,
   "metadata": {},
   "outputs": [],
   "source": [
    "%matplotlib notebook\n",
    "import matplotlib.pyplot as plt"
   ]
  },
  {
   "cell_type": "code",
   "execution_count": null,
   "metadata": {},
   "outputs": [],
   "source": [
    "# Loads the aligned trajectory\n",
    "import MDAnalysis as mda\n",
    "ref = mda.Universe('../sarscov2-10921231-structure/protein_conf.gro')\n",
    "sim = mda.Universe('../sarscov2-10921231-structure/protein_conf.gro', \\\n",
    "                   '../traj_protein_snap_every1ns/protein_snap_every1ns_00to02us.xtc', \\\n",
    "                   '../traj_protein_snap_every1ns/protein_snap_every1ns_02to04us.xtc', \\\n",
    "                   '../traj_protein_snap_every1ns/protein_snap_every1ns_04to06us.xtc', \\\n",
    "                   '../traj_protein_snap_every1ns/protein_snap_every1ns_06to08us.xtc', \\\n",
    "                   '../traj_protein_snap_every1ns/protein_snap_every1ns_08to10us.xtc')"
   ]
  },
  {
   "cell_type": "markdown",
   "metadata": {},
   "source": [
    "# Principal components analysis"
   ]
  },
  {
   "cell_type": "code",
   "execution_count": null,
   "metadata": {},
   "outputs": [],
   "source": [
    "import MDAnalysis.analysis.pca as pca\n",
    "sim_pca = pca.PCA(sim, select='protein and name CA')\n",
    "sim_pca.run(start=0)"
   ]
  },
  {
   "cell_type": "markdown",
   "metadata": {},
   "source": [
    "## Visualize the principal components"
   ]
  },
  {
   "cell_type": "code",
   "execution_count": null,
   "metadata": {
    "scrolled": false
   },
   "outputs": [],
   "source": [
    "X = sim_pca.mean[::3]\n",
    "Y = sim_pca.mean[1::3]\n",
    "Z = sim_pca.mean[2::3]\n",
    "\n",
    "for n in range(5):\n",
    "  U = sim_pca.p_components[::3,n]\n",
    "  V = sim_pca.p_components[1::3,n]\n",
    "  W = sim_pca.p_components[2::3,n]\n",
    "\n",
    "  from mpl_toolkits.mplot3d import Axes3D\n",
    "  fig = plt.figure(n+1)\n",
    "  ax = fig.add_subplot(111, projection='3d')\n",
    "\n",
    "  lengths = [np.sqrt(u**2 + v**2 + w**2) for (u, v, w) in zip(U, V, W)]\n",
    "  # ax.quiver(X, Y, Z, U, V, W, length=10)\n",
    "  for (x, y, z, u, v, w) in zip(X, Y, Z, U, V, W):\n",
    "    length = np.sqrt(u**2 + v**2 + w**2)\n",
    "    ax.quiver(x, y, z, u, v, w, length=100*length/np.max(lengths), pivot='tail')"
   ]
  },
  {
   "cell_type": "code",
   "execution_count": null,
   "metadata": {},
   "outputs": [],
   "source": [
    "X = sim_pca.mean[::3]\n",
    "Y = sim_pca.mean[1::3]\n",
    "Z = sim_pca.mean[2::3]\n",
    "\n",
    "resid = list(np.repeat(range(1,307),3))\n",
    "for n in range(3):\n",
    "  plt.figure(n)\n",
    "  plt.plot(resid, sim_pca.p_components[:306*3,n], '.')\n",
    "  plt.plot(resid, sim_pca.p_components[306*3:,n], '.')\n",
    "  plt.legend(['subunit 1','subunit 2'])\n",
    "  plt.xlabel('Residue')\n",
    "  plt.ylabel('Weight')"
   ]
  },
  {
   "cell_type": "code",
   "execution_count": null,
   "metadata": {},
   "outputs": [],
   "source": [
    "import numpy as np\n",
    "print('The dot product of the first PC with itself is', np.dot(sim_pca.p_components[:,0],sim_pca.p_components[:,0]))\n",
    "print('The dot product of the first and second PCs is', np.dot(sim_pca.p_components[:,0],sim_pca.p_components[:,1]))"
   ]
  },
  {
   "cell_type": "markdown",
   "metadata": {},
   "source": [
    "## The variance and cumulated variance"
   ]
  },
  {
   "cell_type": "code",
   "execution_count": null,
   "metadata": {},
   "outputs": [],
   "source": [
    "plt.plot(sim_pca.variance,'.-')\n",
    "plt.xlabel('Principal component')\n",
    "plt.ylabel('Eigenvalue')"
   ]
  },
  {
   "cell_type": "code",
   "execution_count": null,
   "metadata": {},
   "outputs": [],
   "source": [
    "plt.subplot(2,1,1)\n",
    "plt.plot(sim_pca.cumulated_variance[:10],'.-')\n",
    "plt.xlabel('Principal component');\n",
    "plt.ylabel('Cumulative variance');\n",
    "plt.subplot(2,1,2)\n",
    "plt.plot(sim_pca.cumulated_variance,'.-')\n",
    "plt.xlabel('Principal component');\n",
    "plt.ylabel('Cumulative variance');"
   ]
  },
  {
   "cell_type": "markdown",
   "metadata": {},
   "source": [
    "## Projections onto the most important principal components"
   ]
  },
  {
   "cell_type": "code",
   "execution_count": null,
   "metadata": {},
   "outputs": [],
   "source": [
    "atomgroup = sim.select_atoms('protein and name CA')\n",
    "pca_space = sim_pca.transform(atomgroup, n_components=10)"
   ]
  },
  {
   "cell_type": "code",
   "execution_count": null,
   "metadata": {},
   "outputs": [],
   "source": [
    "for n in range(5):\n",
    "  plt.figure(n)\n",
    "  plt.plot(pca_space[:,n],'.-')\n",
    "  plt.xlabel('Frame')\n",
    "  plt.ylabel(f'Projection onto PC {n+1}')"
   ]
  },
  {
   "cell_type": "code",
   "execution_count": null,
   "metadata": {},
   "outputs": [],
   "source": [
    "plt.scatter(pca_space[:,0], pca_space[:,1], c=range(pca_space.shape[0]), cmap=\"RdYlGn\")\n",
    "plt.colorbar()"
   ]
  },
  {
   "cell_type": "code",
   "execution_count": null,
   "metadata": {},
   "outputs": [],
   "source": []
  }
 ],
 "metadata": {
  "kernelspec": {
   "display_name": "Python 3",
   "language": "python",
   "name": "python3"
  },
  "language_info": {
   "codemirror_mode": {
    "name": "ipython",
    "version": 3
   },
   "file_extension": ".py",
   "mimetype": "text/x-python",
   "name": "python",
   "nbconvert_exporter": "python",
   "pygments_lexer": "ipython3",
   "version": "3.9.1"
  }
 },
 "nbformat": 4,
 "nbformat_minor": 4
}
