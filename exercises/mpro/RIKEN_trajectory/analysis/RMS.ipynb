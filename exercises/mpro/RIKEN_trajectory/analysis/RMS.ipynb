{
 "cells": [
  {
   "cell_type": "code",
   "execution_count": null,
   "metadata": {},
   "outputs": [],
   "source": [
    "%matplotlib inline\n",
    "import matplotlib.pyplot as plt"
   ]
  },
  {
   "cell_type": "code",
   "execution_count": null,
   "metadata": {},
   "outputs": [],
   "source": [
    "# Loads the aligned trajectory\n",
    "import MDAnalysis as mda\n",
    "ref = mda.Universe('../sarscov2-10921231-structure/protein_conf.gro')\n",
    "sim = mda.Universe('../sarscov2-10921231-structure/protein_conf.gro', \\\n",
    "                   '../traj_protein_snap_every1ns/protein_snap_every1ns_00to02us.xtc', \\\n",
    "                   '../traj_protein_snap_every1ns/protein_snap_every1ns_02to04us.xtc', \\\n",
    "                   '../traj_protein_snap_every1ns/protein_snap_every1ns_04to06us.xtc', \\\n",
    "                   '../traj_protein_snap_every1ns/protein_snap_every1ns_06to08us.xtc', \\\n",
    "                   '../traj_protein_snap_every1ns/protein_snap_every1ns_08to10us.xtc')"
   ]
  },
  {
   "cell_type": "markdown",
   "metadata": {},
   "source": [
    "# RMSD analysis"
   ]
  },
  {
   "cell_type": "code",
   "execution_count": null,
   "metadata": {},
   "outputs": [],
   "source": [
    "# Evaluate the RMSD of alpha carbons \n",
    "# with respect to the reference frame\n",
    "from MDAnalysis.analysis import rms\n",
    "R = rms.RMSD(sim, ref, select=\"protein and name CA\")\n",
    "R.run()\n",
    "rmsd_CA = R.rmsd\n",
    "\n",
    "plt.plot(rmsd_CA[:,1]/1000, rmsd_CA[:,2])\n",
    "plt.xlabel('Time (ns)')\n",
    "plt.ylabel('RMSD of $\\\\alpha$ Carbons ($\\\\AA$)')"
   ]
  },
  {
   "cell_type": "code",
   "execution_count": null,
   "metadata": {},
   "outputs": [],
   "source": [
    "# Evaluate the RMSD of backhone carbons \n",
    "# with respect to the reference frame\n",
    "from MDAnalysis.analysis import rms\n",
    "R = rms.RMSD(sim, ref, select=\"backbone\")\n",
    "R.run()\n",
    "rmsd_backbone = R.rmsd\n",
    "\n",
    "plt.plot(rmsd_backbone[:,1]/1000, rmsd_backbone[:,2])\n",
    "plt.xlabel('Time (ns)')\n",
    "plt.ylabel('RMSD of backbone atoms ($\\\\AA$)')"
   ]
  },
  {
   "cell_type": "code",
   "execution_count": null,
   "metadata": {},
   "outputs": [],
   "source": [
    "plt.hist(rmsd_CA[:,2] - rmsd_backbone[:,2])"
   ]
  },
  {
   "cell_type": "markdown",
   "metadata": {},
   "source": [
    "# RMSF analysis"
   ]
  },
  {
   "cell_type": "code",
   "execution_count": null,
   "metadata": {},
   "outputs": [],
   "source": [
    "# This code will compute the RMSF relative to the reference structure, \n",
    "# not the mean structure.\n",
    "alpha_carbons = sim.select_atoms(\"name CA\")\n",
    "R = rms.RMSF(alpha_carbons)\n",
    "R.run(start=40)\n",
    "\n",
    "monomerA = range(306)\n",
    "monomerB = range(306,612)\n",
    "\n",
    "plt.plot(alpha_carbons.resnums[monomerA], R.rmsf[monomerA], '.-')\n",
    "plt.plot(alpha_carbons.resnums[monomerB], R.rmsf[monomerB], '.-')"
   ]
  },
  {
   "cell_type": "code",
   "execution_count": null,
   "metadata": {},
   "outputs": [],
   "source": []
  }
 ],
 "metadata": {
  "kernelspec": {
   "display_name": "Python 3",
   "language": "python",
   "name": "python3"
  },
  "language_info": {
   "codemirror_mode": {
    "name": "ipython",
    "version": 3
   },
   "file_extension": ".py",
   "mimetype": "text/x-python",
   "name": "python",
   "nbconvert_exporter": "python",
   "pygments_lexer": "ipython3",
   "version": "3.9.1"
  }
 },
 "nbformat": 4,
 "nbformat_minor": 4
}
