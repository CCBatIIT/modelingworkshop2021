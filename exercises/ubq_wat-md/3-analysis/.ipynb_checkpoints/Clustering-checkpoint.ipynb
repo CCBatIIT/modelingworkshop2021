{
 "cells": [
  {
   "cell_type": "code",
   "execution_count": 1,
   "metadata": {},
   "outputs": [],
   "source": [
    "%matplotlib inline\n",
    "import matplotlib.pyplot as plt"
   ]
  },
  {
   "cell_type": "code",
   "execution_count": 2,
   "metadata": {},
   "outputs": [],
   "source": [
    "# Loads the aligned trajectory\n",
    "import MDAnalysis as mda\n",
    "ref = mda.Universe('protein.pdb')\n",
    "sim = mda.Universe('protein.pdb', '0/1ubq_aligned_protein.dcd')"
   ]
  },
  {
   "cell_type": "code",
   "execution_count": 3,
   "metadata": {},
   "outputs": [
    {
     "data": {
      "text/plain": [
       "<MDAnalysis.analysis.pca.PCA at 0x12536d310>"
      ]
     },
     "execution_count": 3,
     "metadata": {},
     "output_type": "execute_result"
    }
   ],
   "source": [
    "# Perform PCA, which will be used to obtain distances\n",
    "import MDAnalysis.analysis.pca as pca\n",
    "sim_pca = pca.PCA(sim, select='protein and name CA')\n",
    "sim_pca.run(start=40)"
   ]
  },
  {
   "cell_type": "code",
   "execution_count": 6,
   "metadata": {},
   "outputs": [],
   "source": [
    "from MDAnalysis.analysis import rms\n",
    "R = rms.RMSD(sim, ref, select=\"protein and name CA\")\n",
    "R.run()\n",
    "rmsd_CA = R.rmsd"
   ]
  },
  {
   "cell_type": "code",
   "execution_count": 18,
   "metadata": {},
   "outputs": [],
   "source": []
  },
  {
   "cell_type": "code",
   "execution_count": 37,
   "metadata": {},
   "outputs": [],
   "source": [
    "ref_projection = sim_pca.transform(ref.select_atoms(\"protein and name CA\"))\n",
    "sim_projection = sim_pca.transform(sim.select_atoms('protein and name CA'))"
   ]
  },
  {
   "cell_type": "code",
   "execution_count": 39,
   "metadata": {},
   "outputs": [
    {
     "data": {
      "text/plain": [
       "(1, 228)"
      ]
     },
     "execution_count": 39,
     "metadata": {},
     "output_type": "execute_result"
    }
   ],
   "source": [
    "ref_projection.shape"
   ]
  },
  {
   "cell_type": "code",
   "execution_count": 40,
   "metadata": {},
   "outputs": [
    {
     "data": {
      "text/plain": [
       "(25500, 228)"
      ]
     },
     "execution_count": 40,
     "metadata": {},
     "output_type": "execute_result"
    }
   ],
   "source": [
    "sim_projection.shape"
   ]
  },
  {
   "cell_type": "code",
   "execution_count": 47,
   "metadata": {},
   "outputs": [
    {
     "data": {
      "text/plain": [
       "array([ 5.27709681e+01,  2.69687568e+01,  8.17766747e+00,  4.92781486e+00,\n",
       "        3.55446326e+00,  2.25946425e+00,  1.89345372e+00,  1.52324707e+00,\n",
       "        1.37394573e+00,  1.12732855e+00,  1.08392610e+00,  9.07909417e-01,\n",
       "        8.81308453e-01,  7.12372271e-01,  6.25546771e-01,  6.19063506e-01,\n",
       "        5.58856784e-01,  5.25537478e-01,  4.65097112e-01,  4.33399290e-01,\n",
       "        4.19135776e-01,  3.62885387e-01,  3.41738246e-01,  3.33865430e-01,\n",
       "        2.97967420e-01,  2.81210360e-01,  2.61197749e-01,  2.48990132e-01,\n",
       "        2.42516157e-01,  2.24490116e-01,  2.12306835e-01,  2.00577337e-01,\n",
       "        1.85145108e-01,  1.83270492e-01,  1.76047109e-01,  1.66521021e-01,\n",
       "        1.58757063e-01,  1.51997484e-01,  1.42418124e-01,  1.34735494e-01,\n",
       "        1.19216142e-01,  1.17678154e-01,  1.12313647e-01,  1.10257999e-01,\n",
       "        1.07029812e-01,  1.03114293e-01,  1.01045429e-01,  9.97626492e-02,\n",
       "        9.82849311e-02,  9.23538882e-02,  9.10745223e-02,  9.00105796e-02,\n",
       "        8.54923199e-02,  8.06773756e-02,  7.96075432e-02,  7.70702888e-02,\n",
       "        7.33099481e-02,  6.91458481e-02,  6.63612433e-02,  6.53389101e-02,\n",
       "        6.20528867e-02,  6.13364920e-02,  6.04658469e-02,  5.91867309e-02,\n",
       "        5.67042260e-02,  5.56917464e-02,  5.40493980e-02,  5.29374697e-02,\n",
       "        5.15051265e-02,  4.99437468e-02,  4.93479863e-02,  4.75753603e-02,\n",
       "        4.72885073e-02,  4.64892735e-02,  4.56281642e-02,  4.34330647e-02,\n",
       "        4.27032710e-02,  4.18536157e-02,  4.09617288e-02,  3.92999643e-02,\n",
       "        3.84675830e-02,  3.63172546e-02,  3.56721425e-02,  3.45665777e-02,\n",
       "        3.36287907e-02,  3.33542677e-02,  3.23422443e-02,  3.09148693e-02,\n",
       "        3.07516988e-02,  3.00059261e-02,  2.93914126e-02,  2.90046495e-02,\n",
       "        2.82288416e-02,  2.79493925e-02,  2.69879862e-02,  2.55508033e-02,\n",
       "        2.52134550e-02,  2.47839915e-02,  2.46702852e-02,  2.40502010e-02,\n",
       "        2.37581701e-02,  2.28203044e-02,  2.22181896e-02,  2.19446929e-02,\n",
       "        2.16302848e-02,  2.08557830e-02,  2.06964313e-02,  2.05287934e-02,\n",
       "        1.94794809e-02,  1.92809839e-02,  1.92365558e-02,  1.85840846e-02,\n",
       "        1.78711992e-02,  1.75158481e-02,  1.74409929e-02,  1.70516213e-02,\n",
       "        1.67318150e-02,  1.61188164e-02,  1.60019607e-02,  1.57021566e-02,\n",
       "        1.55619259e-02,  1.51222639e-02,  1.48360557e-02,  1.45825161e-02,\n",
       "        1.43856387e-02,  1.42310225e-02,  1.39984342e-02,  1.27672854e-02,\n",
       "        1.24860738e-02,  1.20959559e-02,  1.20783220e-02,  1.18908448e-02,\n",
       "        1.16004377e-02,  1.13330379e-02,  1.12553072e-02,  1.09683830e-02,\n",
       "        1.07399621e-02,  1.06544658e-02,  1.02649974e-02,  1.00048269e-02,\n",
       "        9.71373791e-03,  9.55104302e-03,  9.48091189e-03,  9.20991911e-03,\n",
       "        9.04066846e-03,  8.73798309e-03,  8.36564350e-03,  8.07969921e-03,\n",
       "        7.98864105e-03,  7.55650874e-03,  7.45258428e-03,  7.36490138e-03,\n",
       "        7.25501692e-03,  7.01962971e-03,  6.31817186e-03,  5.44619210e-03,\n",
       "        5.30796906e-03,  5.06655254e-03,  4.38494226e-03,  4.08843425e-03,\n",
       "        3.86945396e-03,  3.71304238e-03,  3.55387027e-03,  3.42022509e-03,\n",
       "        3.33335508e-03,  3.25721962e-03,  3.07582294e-03,  3.00237988e-03,\n",
       "        2.94104299e-03,  2.87447545e-03,  2.79431961e-03,  2.77532107e-03,\n",
       "        2.71301607e-03,  2.63295718e-03,  2.58157077e-03,  2.46283985e-03,\n",
       "        2.35605085e-03,  2.35339762e-03,  2.29705964e-03,  2.26109278e-03,\n",
       "        2.19779162e-03,  2.05949390e-03,  2.02340463e-03,  2.01657017e-03,\n",
       "        2.01138011e-03,  1.97840560e-03,  1.93874059e-03,  1.92155658e-03,\n",
       "        1.91069612e-03,  1.90088102e-03,  1.85819916e-03,  1.85290807e-03,\n",
       "        1.82790215e-03,  1.81591175e-03,  1.79678595e-03,  1.77715080e-03,\n",
       "        1.75907693e-03,  1.74039571e-03,  1.70843325e-03,  1.69083329e-03,\n",
       "        1.65760562e-03,  1.64202263e-03,  1.62676940e-03,  1.60629136e-03,\n",
       "        1.59613114e-03,  1.57135512e-03,  1.56662222e-03,  1.54287071e-03,\n",
       "        1.52867291e-03,  1.51240064e-03,  1.50402245e-03,  1.45109880e-03,\n",
       "        1.42585948e-03,  1.40806959e-03,  1.39844104e-03,  1.38723556e-03,\n",
       "        1.35970162e-03,  1.30661259e-03,  1.25465996e-03,  1.24585662e-03,\n",
       "        1.18020287e-03,  1.16537908e-03,  6.76799546e-10,  7.21909831e-11,\n",
       "        5.64942265e-11, -5.13845431e-11, -1.18180914e-10, -8.96695319e-10])"
      ]
     },
     "execution_count": 47,
     "metadata": {},
     "output_type": "execute_result"
    }
   ],
   "source": []
  },
  {
   "cell_type": "code",
   "execution_count": 48,
   "metadata": {},
   "outputs": [
    {
     "ename": "ValueError",
     "evalue": "operands could not be broadcast together with shapes (15,) (1,228) ",
     "output_type": "error",
     "traceback": [
      "\u001b[0;31m---------------------------------------------------------------------------\u001b[0m",
      "\u001b[0;31mValueError\u001b[0m                                Traceback (most recent call last)",
      "\u001b[0;32m<ipython-input-48-1d805c12cb62>\u001b[0m in \u001b[0;36m<module>\u001b[0;34m\u001b[0m\n\u001b[1;32m      1\u001b[0m \u001b[0;32mimport\u001b[0m \u001b[0mnumpy\u001b[0m \u001b[0;32mas\u001b[0m \u001b[0mnp\u001b[0m\u001b[0;34m\u001b[0m\u001b[0;34m\u001b[0m\u001b[0m\n\u001b[0;32m----> 2\u001b[0;31m \u001b[0;34m[\u001b[0m\u001b[0mnp\u001b[0m\u001b[0;34m.\u001b[0m\u001b[0msqrt\u001b[0m\u001b[0;34m(\u001b[0m\u001b[0mnp\u001b[0m\u001b[0;34m.\u001b[0m\u001b[0mmean\u001b[0m\u001b[0;34m(\u001b[0m\u001b[0msim_pca\u001b[0m\u001b[0;34m.\u001b[0m\u001b[0mvariance\u001b[0m\u001b[0;34m[\u001b[0m\u001b[0;34m:\u001b[0m\u001b[0;36m15\u001b[0m\u001b[0;34m]\u001b[0m\u001b[0;34m*\u001b[0m\u001b[0mnp\u001b[0m\u001b[0;34m.\u001b[0m\u001b[0msquare\u001b[0m\u001b[0;34m(\u001b[0m\u001b[0;34m(\u001b[0m\u001b[0msim_projection\u001b[0m\u001b[0;34m[\u001b[0m\u001b[0mn\u001b[0m\u001b[0;34m,\u001b[0m\u001b[0;34m:\u001b[0m\u001b[0;36m15\u001b[0m\u001b[0;34m]\u001b[0m \u001b[0;34m-\u001b[0m \u001b[0mref_projection\u001b[0m\u001b[0;34m[\u001b[0m\u001b[0;34m:\u001b[0m\u001b[0;36m15\u001b[0m\u001b[0;34m]\u001b[0m\u001b[0;34m)\u001b[0m\u001b[0;34m)\u001b[0m\u001b[0;34m)\u001b[0m\u001b[0;34m)\u001b[0m \u001b[0;32mfor\u001b[0m \u001b[0mn\u001b[0m \u001b[0;32min\u001b[0m \u001b[0mrange\u001b[0m\u001b[0;34m(\u001b[0m\u001b[0;36m20\u001b[0m\u001b[0;34m)\u001b[0m\u001b[0;34m]\u001b[0m\u001b[0;34m\u001b[0m\u001b[0;34m\u001b[0m\u001b[0m\n\u001b[0m",
      "\u001b[0;32m<ipython-input-48-1d805c12cb62>\u001b[0m in \u001b[0;36m<listcomp>\u001b[0;34m(.0)\u001b[0m\n\u001b[1;32m      1\u001b[0m \u001b[0;32mimport\u001b[0m \u001b[0mnumpy\u001b[0m \u001b[0;32mas\u001b[0m \u001b[0mnp\u001b[0m\u001b[0;34m\u001b[0m\u001b[0;34m\u001b[0m\u001b[0m\n\u001b[0;32m----> 2\u001b[0;31m \u001b[0;34m[\u001b[0m\u001b[0mnp\u001b[0m\u001b[0;34m.\u001b[0m\u001b[0msqrt\u001b[0m\u001b[0;34m(\u001b[0m\u001b[0mnp\u001b[0m\u001b[0;34m.\u001b[0m\u001b[0mmean\u001b[0m\u001b[0;34m(\u001b[0m\u001b[0msim_pca\u001b[0m\u001b[0;34m.\u001b[0m\u001b[0mvariance\u001b[0m\u001b[0;34m[\u001b[0m\u001b[0;34m:\u001b[0m\u001b[0;36m15\u001b[0m\u001b[0;34m]\u001b[0m\u001b[0;34m*\u001b[0m\u001b[0mnp\u001b[0m\u001b[0;34m.\u001b[0m\u001b[0msquare\u001b[0m\u001b[0;34m(\u001b[0m\u001b[0;34m(\u001b[0m\u001b[0msim_projection\u001b[0m\u001b[0;34m[\u001b[0m\u001b[0mn\u001b[0m\u001b[0;34m,\u001b[0m\u001b[0;34m:\u001b[0m\u001b[0;36m15\u001b[0m\u001b[0;34m]\u001b[0m \u001b[0;34m-\u001b[0m \u001b[0mref_projection\u001b[0m\u001b[0;34m[\u001b[0m\u001b[0;34m:\u001b[0m\u001b[0;36m15\u001b[0m\u001b[0;34m]\u001b[0m\u001b[0;34m)\u001b[0m\u001b[0;34m)\u001b[0m\u001b[0;34m)\u001b[0m\u001b[0;34m)\u001b[0m \u001b[0;32mfor\u001b[0m \u001b[0mn\u001b[0m \u001b[0;32min\u001b[0m \u001b[0mrange\u001b[0m\u001b[0;34m(\u001b[0m\u001b[0;36m20\u001b[0m\u001b[0;34m)\u001b[0m\u001b[0;34m]\u001b[0m\u001b[0;34m\u001b[0m\u001b[0;34m\u001b[0m\u001b[0m\n\u001b[0m",
      "\u001b[0;31mValueError\u001b[0m: operands could not be broadcast together with shapes (15,) (1,228) "
     ]
    }
   ],
   "source": [
    "import numpy as np\n",
    "[np.sqrt(np.mean(sim_pca.variance[:15]*np.square((sim_projection[n,:15] - ref_projection[:15])))) for n in range(20)]"
   ]
  },
  {
   "cell_type": "code",
   "execution_count": 44,
   "metadata": {},
   "outputs": [
    {
     "data": {
      "text/plain": [
       "[<matplotlib.lines.Line2D at 0x1362acb20>]"
      ]
     },
     "execution_count": 44,
     "metadata": {},
     "output_type": "execute_result"
    },
    {
     "data": {
      "image/png": "[encoded data removed]",
      "text/plain": [
       "<Figure size 432x288 with 1 Axes>"
      ]
     },
     "metadata": {
      "needs_background": "light"
     },
     "output_type": "display_data"
    }
   ],
   "source": [
    "plt.plot([np.sqrt(np.mean(sim_pca.variance*np.square((sim_projection[n,:] - ref_projection)))) for n in range(20)], \\\n",
    "         rmsd_CA[:20,2], \\\n",
    "         '.-')"
   ]
  },
  {
   "cell_type": "code",
   "execution_count": null,
   "metadata": {},
   "outputs": [],
   "source": [
    "sim_pca."
   ]
  }
 ],
 "metadata": {
  "kernelspec": {
   "display_name": "Python 3",
   "language": "python",
   "name": "python3"
  },
  "language_info": {
   "codemirror_mode": {
    "name": "ipython",
    "version": 3
   },
   "file_extension": ".py",
   "mimetype": "text/x-python",
   "name": "python",
   "nbconvert_exporter": "python",
   "pygments_lexer": "ipython3",
   "version": "3.8.1"
  }
 },
 "nbformat": 4,
 "nbformat_minor": 4
}
