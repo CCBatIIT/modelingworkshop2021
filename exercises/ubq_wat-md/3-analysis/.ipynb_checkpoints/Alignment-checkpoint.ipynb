{
 "cells": [
  {
   "cell_type": "markdown",
   "metadata": {},
   "source": [
    "# Performs structural alignment \n",
    "* by alpha carbons \n",
    "* saves protein atoms to output files"
   ]
  },
  {
   "cell_type": "code",
   "execution_count": 1,
   "metadata": {},
   "outputs": [],
   "source": [
    "system_name = '1ubq'"
   ]
  },
  {
   "cell_type": "code",
   "execution_count": 2,
   "metadata": {},
   "outputs": [
    {
     "name": "stdout",
     "output_type": "stream",
     "text": [
      "The following trajectory files will be loaded: ['../2-simulation/0/1ubq000.dcd', '../2-simulation/0/1ubq001.dcd', '../2-simulation/0/1ubq002.dcd']\n"
     ]
    }
   ],
   "source": [
    "import os\n",
    "\n",
    "# Creates list of trajectory files\n",
    "traj_FNs = []\n",
    "run_number = 0\n",
    "traj_FN = '../2-simulation/0/%s%03d.dcd'%(system_name,run_number)\n",
    "while os.path.isfile(traj_FN):\n",
    "  traj_FNs.append(traj_FN)\n",
    "  run_number += 1\n",
    "  traj_FN = '../2-simulation/0/%s%03d.dcd'%(system_name,run_number)\n",
    "print('The following trajectory files will be loaded:', traj_FNs)"
   ]
  },
  {
   "cell_type": "code",
   "execution_count": 3,
   "metadata": {},
   "outputs": [],
   "source": [
    "# Loads the trajectories\n",
    "import MDAnalysis as mda\n",
    "ref = mda.Universe('../1-model_water/%s.pdb'%system_name)\n",
    "sim = mda.Universe('../1-model_water/%s.pdb'%system_name, traj_FNs)"
   ]
  },
  {
   "cell_type": "code",
   "execution_count": 4,
   "metadata": {},
   "outputs": [],
   "source": [
    "# Creates the output directory\n",
    "import os\n",
    "if not os.path.isdir('0'):\n",
    "  os.mkdir('0')"
   ]
  },
  {
   "cell_type": "code",
   "execution_count": 6,
   "metadata": {},
   "outputs": [],
   "source": [
    "# Align all frames to the reference, \n",
    "#   minimizing the alpha carbon RMSD\n",
    "#   and storing the trajectory to a dcd file\n",
    "from MDAnalysis.analysis import align\n",
    "alignment = align.AlignTraj(sim, ref, \\\n",
    "  select=\"protein and name CA\", filename='0/%s.dcd'%system_name).run()"
   ]
  },
  {
   "cell_type": "code",
   "execution_count": null,
   "metadata": {},
   "outputs": [],
   "source": []
  }
 ],
 "metadata": {
  "kernelspec": {
   "display_name": "Python 3",
   "language": "python",
   "name": "python3"
  },
  "language_info": {
   "codemirror_mode": {
    "name": "ipython",
    "version": 3
   },
   "file_extension": ".py",
   "mimetype": "text/x-python",
   "name": "python",
   "nbconvert_exporter": "python",
   "pygments_lexer": "ipython3",
   "version": "3.8.1"
  }
 },
 "nbformat": 4,
 "nbformat_minor": 4
}
