{
 "cells": [
  {
   "cell_type": "code",
   "execution_count": 23,
   "metadata": {},
   "outputs": [],
   "source": [
    "#!/usr/bin/python\n",
    "\n",
    "import argparse\n",
    "parser = argparse.ArgumentParser(description = \\\n",
    "  'Create a set of scripts to run AutoDock Vina jobs on XSEDE Bridges')\n",
    "parser.add_argument('--receptor', \\\n",
    "  default='hsg1.pdbqt',\n",
    "  help='Receptor pdbqt file')\n",
    "parser.add_argument('--library', \\\n",
    "  default='library', \\\n",
    "  help='Directory containing library of pdbqt files')\n",
    "parser.add_argument('--config', \\\n",
    "  default='config.txt', \\\n",
    "  help='Vina configuration file')\n",
    "parser.add_argument('--nscripts', \\\n",
    "  type=int, default=16,\n",
    "  help='Number of scripts, which can be equal to the number of cores')\n",
    "parser.add_argument('--output', \\\n",
    "  default='poses',\n",
    "  help='Directory containing library of docked poses')\n",
    "parser.add_argument('-f', default='Dummy argument')\n",
    "args = parser.parse_args()\n",
    "\n",
    "import os\n",
    "import glob\n",
    "\n",
    "lib_FNs = glob.glob(os.path.join(args.library,'*.pdbqt'))\n",
    "for n in range(args.nscripts):\n",
    "  sh_F = open('script%d.sh'%n,'w')\n",
    "  sh_F.write('module load autodock/4.2.6\\n')\n",
    "  for lib_FN in lib_FNs[n::args.nscripts]:\n",
    "    out_FN = os.path.basename(args.receptor)[:-6] + '_' + \\\n",
    "             os.path.basename(lib_FN)[:-6]\n",
    "    sh_F.write('vina --config ' + args.config + \\\n",
    "               ' --receptor ' + args.receptor + \\\n",
    "               ' --ligand ' + lib_FN + \\\n",
    "               ' --out ' + out_FN + '.pdbqt\\n')"
   ]
  },
  {
   "cell_type": "code",
   "execution_count": null,
   "metadata": {},
   "outputs": [],
   "source": []
  }
 ],
 "metadata": {
  "kernelspec": {
   "display_name": "Python 2",
   "language": "python",
   "name": "python2"
  },
  "language_info": {
   "codemirror_mode": {
    "name": "ipython",
    "version": 2
   },
   "file_extension": ".py",
   "mimetype": "text/x-python",
   "name": "python",
   "nbconvert_exporter": "python",
   "pygments_lexer": "ipython2",
   "version": "2.7.15"
  }
 },
 "nbformat": 4,
 "nbformat_minor": 2
}
